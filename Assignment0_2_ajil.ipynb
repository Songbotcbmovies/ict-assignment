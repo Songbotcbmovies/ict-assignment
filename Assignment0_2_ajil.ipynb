{
  "nbformat": 4,
  "nbformat_minor": 0,
  "metadata": {
    "colab": {
      "provenance": [],
      "authorship_tag": "ABX9TyNVa7xgW+U6wQazuO9+zt5K",
      "include_colab_link": true
    },
    "kernelspec": {
      "name": "python3",
      "display_name": "Python 3"
    },
    "language_info": {
      "name": "python"
    }
  },
  "cells": [
    {
      "cell_type": "markdown",
      "metadata": {
        "id": "view-in-github",
        "colab_type": "text"
      },
      "source": [
        "<a href=\"https://colab.research.google.com/github/Songbotcbmovies/ict-assignment/blob/main/Assignment0_2_ajil.ipynb\" target=\"_parent\"><img src=\"https://colab.research.google.com/assets/colab-badge.svg\" alt=\"Open In Colab\"/></a>"
      ]
    },
    {
      "cell_type": "markdown",
      "source": [
        "question 1"
      ],
      "metadata": {
        "id": "YbKedNP4B9Ep"
      }
    },
    {
      "cell_type": "code",
      "execution_count": 5,
      "metadata": {
        "colab": {
          "base_uri": "https://localhost:8080/"
        },
        "id": "afjXOEtWAa0_",
        "outputId": "68b82d03-71a8-44b1-ce67-ca504d24ab84"
      },
      "outputs": [
        {
          "output_type": "stream",
          "name": "stdout",
          "text": [
            "enter the number15\n",
            "fizzbuzz\n"
          ]
        }
      ],
      "source": [
        "n=int(input(\"enter the number\"))\n",
        "if n%3==0 and n%5==0:\n",
        "    print(\"fizzbuzz\")\n",
        "elif n%3==0:\n",
        "    print(\"fizz\")\n",
        "elif n%5==0:\n",
        "    print(\"buzz\")\n",
        "else:\n",
        "    print(n)"
      ]
    },
    {
      "cell_type": "markdown",
      "source": [
        "quesion 2"
      ],
      "metadata": {
        "id": "Ni_pPKddCMDg"
      }
    },
    {
      "cell_type": "code",
      "source": [
        "n=int(input(\"enter the number of unit consumed : \"))\n",
        "totalamount = 0\n",
        "\n",
        "if n <=100:\n",
        "  totalamount = n*5\n",
        "elif n <= 200:\n",
        "  totalamount = (100*5) + (n-100) * 7\n",
        "else:\n",
        "  totalamount = (100*5) + (100*7)+((n-200)*10)\n",
        "print(f\"Total Bill amount :{totalamount}\")"
      ],
      "metadata": {
        "colab": {
          "base_uri": "https://localhost:8080/"
        },
        "id": "Vf732s5-FC1m",
        "outputId": "ad38f52b-3164-4181-cbad-8a8ba7595801"
      },
      "execution_count": 12,
      "outputs": [
        {
          "output_type": "stream",
          "name": "stdout",
          "text": [
            "enter the number of unit consumed : 245\n",
            "Total Bill amount :1650\n"
          ]
        }
      ]
    },
    {
      "cell_type": "markdown",
      "source": [
        "question 3"
      ],
      "metadata": {
        "id": "_TTB5-FGGizk"
      }
    },
    {
      "cell_type": "code",
      "source": [
        "for i in range(1,6):\n",
        "  print(\"*\"*i)"
      ],
      "metadata": {
        "colab": {
          "base_uri": "https://localhost:8080/"
        },
        "id": "1nxyqABDGALN",
        "outputId": "fc6c70a7-395a-4795-e1a2-990b6ed7dc2f"
      },
      "execution_count": 14,
      "outputs": [
        {
          "output_type": "stream",
          "name": "stdout",
          "text": [
            "*\n",
            "**\n",
            "***\n",
            "****\n",
            "*****\n"
          ]
        }
      ]
    },
    {
      "cell_type": "markdown",
      "source": [
        "question 4"
      ],
      "metadata": {
        "id": "LkLVA0VKH_Ez"
      }
    },
    {
      "cell_type": "code",
      "source": [
        "pal=str(input(\"Enter a number or string:\"))\n",
        "rev_pal = pal[::-1]\n",
        "\n",
        "if rev_pal == pal:\n",
        "  print(pal,\"is a palindrome\")\n",
        "else:\n",
        " print(pal,\"is not a palindrome\")"
      ],
      "metadata": {
        "colab": {
          "base_uri": "https://localhost:8080/"
        },
        "id": "pEKQrAbqH5DC",
        "outputId": "2bd2a7fa-4a24-4313-960e-706248e6a2c1"
      },
      "execution_count": 28,
      "outputs": [
        {
          "output_type": "stream",
          "name": "stdout",
          "text": [
            "Enter a number or string:121\n",
            "121 is a palindrome\n"
          ]
        }
      ]
    },
    {
      "cell_type": "code",
      "source": [],
      "metadata": {
        "id": "Sdf5Wum6LPyv"
      },
      "execution_count": null,
      "outputs": []
    }
  ]
}