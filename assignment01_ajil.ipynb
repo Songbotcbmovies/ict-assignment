{
  "nbformat": 4,
  "nbformat_minor": 0,
  "metadata": {
    "colab": {
      "provenance": [],
      "authorship_tag": "ABX9TyMzYA1hDj3Ja249/tlaPw7x",
      "include_colab_link": true
    },
    "kernelspec": {
      "name": "python3",
      "display_name": "Python 3"
    },
    "language_info": {
      "name": "python"
    }
  },
  "cells": [
    {
      "cell_type": "markdown",
      "metadata": {
        "id": "view-in-github",
        "colab_type": "text"
      },
      "source": [
        "<a href=\"https://colab.research.google.com/github/Songbotcbmovies/ict-assignment/blob/main/assignment01_ajil.ipynb\" target=\"_parent\"><img src=\"https://colab.research.google.com/assets/colab-badge.svg\" alt=\"Open In Colab\"/></a>"
      ]
    },
    {
      "cell_type": "markdown",
      "source": [
        "question 1\n"
      ],
      "metadata": {
        "id": "IXVzoi1VWPEx"
      }
    },
    {
      "cell_type": "code",
      "source": [
        "a=int(input(\"price of item 1:\"))\n",
        "b=int(input(\"quantity of item 1:\"))\n",
        "c=int(input(\"price of item 2:\"))\n",
        "d=int(input(\"quantity of item 2:\"))\n",
        "x=a*b+c*d\n",
        "print(x)\n"
      ],
      "metadata": {
        "colab": {
          "base_uri": "https://localhost:8080/"
        },
        "id": "JYZWhrYYYOMP",
        "outputId": "9541f40d-0766-4642-825d-6f9f035b7a1d"
      },
      "execution_count": null,
      "outputs": [
        {
          "output_type": "stream",
          "name": "stdout",
          "text": [
            "price of item 1:45\n",
            "quantity of item 1:3\n",
            "price of item 2:30\n",
            "quantity of item 2:2\n",
            "195\n"
          ]
        }
      ]
    },
    {
      "cell_type": "markdown",
      "source": [
        "question 2\n"
      ],
      "metadata": {
        "id": "NeZ-NBn0Zw0-"
      }
    },
    {
      "cell_type": "code",
      "source": [
        "c=int(input(\"enter temp in celcius:\"))\n",
        "f=(c*9/5)+32\n",
        "print(f"
      ],
      "metadata": {
        "colab": {
          "base_uri": "https://localhost:8080/"
        },
        "id": "bBdws5SJZb83",
        "outputId": "2086d3c4-dfe5-4aa3-d289-fe19ca233d9f"
      },
      "execution_count": null,
      "outputs": [
        {
          "output_type": "stream",
          "name": "stdout",
          "text": [
            "enter temp in celcius:30\n",
            "86.0\n"
          ]
        }
      ]
    },
    {
      "cell_type": "markdown",
      "source": [
        "question 3\n"
      ],
      "metadata": {
        "id": "FGZSalBba6bl"
      }
    },
    {
      "cell_type": "code",
      "source": [
        "a=float(input(\"enter basic salary:\"))\n",
        "n=a+(0.20*a)+(0.10*a)\n",
        "print(\"net salary:\",n)\n",
        "\n",
        "\n",
        "\n"
      ],
      "metadata": {
        "colab": {
          "base_uri": "https://localhost:8080/"
        },
        "id": "mE-SdJk2aqrc",
        "outputId": "bbbc9771-3168-44fe-9fb6-282d3d846f1e"
      },
      "execution_count": null,
      "outputs": [
        {
          "output_type": "stream",
          "name": "stdout",
          "text": [
            "enter basic salary:20000\n",
            "net salary: 26000.0\n"
          ]
        }
      ]
    },
    {
      "cell_type": "markdown",
      "source": [
        "question 4"
      ],
      "metadata": {
        "id": "V6eBHtcwdcuL"
      }
    },
    {
      "cell_type": "code",
      "source": [
        "p=float(input(\"principal amount:\"))\n",
        "r=float(input(\"rate of interest:\"))\n",
        "t=float(input(\"time:\"))\n",
        "si=(p*r*t)/100\n",
        "print(si)"
      ],
      "metadata": {
        "colab": {
          "base_uri": "https://localhost:8080/"
        },
        "id": "dr3AgNIDbfW0",
        "outputId": "bb2f1d2f-1feb-465c-a2a9-87de6cd18b2a"
      },
      "execution_count": null,
      "outputs": [
        {
          "output_type": "stream",
          "name": "stdout",
          "text": [
            "principal amount:10000\n",
            "rate of interest:5\n",
            "time:2\n",
            "1000.0\n"
          ]
        }
      ]
    },
    {
      "cell_type": "markdown",
      "source": [
        "question 5"
      ],
      "metadata": {
        "id": "eiRX632CfcAZ"
      }
    },
    {
      "cell_type": "code",
      "source": [
        "a=float(input(\"enter total minutes\"))\n",
        "h=a//60\n",
        "m=a%60\n",
        "print(h,m)"
      ],
      "metadata": {
        "colab": {
          "base_uri": "https://localhost:8080/"
        },
        "id": "J8jhF495fsr_",
        "outputId": "0c039a24-2c58-458c-aa95-90ce2e2ec78e"
      },
      "execution_count": null,
      "outputs": [
        {
          "output_type": "stream",
          "name": "stdout",
          "text": [
            "enter total minutes130\n",
            "2.0 10.0\n"
          ]
        }
      ]
    },
    {
      "cell_type": "markdown",
      "source": [
        "question 6"
      ],
      "metadata": {
        "id": "PGGeiJD4iHYX"
      }
    },
    {
      "cell_type": "code",
      "source": [
        "a=float(input(\"enter the weight\"))\n",
        "h=float(input(\"enter the height\"))\n",
        "bmi=a/(h*h)\n",
        "print(bmi)\n",
        "#"
      ],
      "metadata": {
        "colab": {
          "base_uri": "https://localhost:8080/"
        },
        "id": "Md7GGaGEeSTB",
        "outputId": "450876a0-3ce2-45b9-843a-1429c6429517"
      },
      "execution_count": null,
      "outputs": [
        {
          "output_type": "stream",
          "name": "stdout",
          "text": [
            "enter the weight60\n",
            "enter the height1.65\n",
            "22.03856749311295\n"
          ]
        }
      ]
    },
    {
      "cell_type": "markdown",
      "source": [
        "question 7"
      ],
      "metadata": {
        "id": "oLhbjf0wVcoU"
      }
    },
    {
      "cell_type": "code",
      "source": [
        "a=float(input(\"enter the orgial prize\"))\n",
        "d=float(input(\"enter the discount\"))\n",
        "n=a-(a*d)/100\n",
        "print(n)\n",
        "#"
      ],
      "metadata": {
        "id": "gLUid2kEihBV",
        "colab": {
          "base_uri": "https://localhost:8080/"
        },
        "outputId": "c28a9ff5-b308-4379-ba15-605c7fa13d8e"
      },
      "execution_count": 5,
      "outputs": [
        {
          "output_type": "stream",
          "name": "stdout",
          "text": [
            "enter the orgial prize1200\n",
            "enter the discount10\n",
            "1080.0\n"
          ]
        }
      ]
    },
    {
      "cell_type": "markdown",
      "source": [
        "question 8"
      ],
      "metadata": {
        "id": "6SkBp4IY2lwA"
      }
    },
    {
      "cell_type": "code",
      "source": [
        "a=float(input(\"enter side a\"))\n",
        "b=float(input(\"enter side b\"))\n",
        "c=float(input(\"enter side c\"))\n",
        "s=(a+b+c)/2\n",
        "area=(s*(s-a)*(s-b)*(s-c))**0.5\n",
        "print(area)\n",
        "#"
      ],
      "metadata": {
        "colab": {
          "base_uri": "https://localhost:8080/"
        },
        "id": "lz7fCbaZWoaM",
        "outputId": "2088f466-99c3-4363-f3ab-011c4bd6a9fa"
      },
      "execution_count": 1,
      "outputs": [
        {
          "output_type": "stream",
          "name": "stdout",
          "text": [
            "enter side a5\n",
            "enter side b6\n",
            "enter side c7\n",
            "14.696938456699069\n"
          ]
        }
      ]
    },
    {
      "cell_type": "markdown",
      "source": [
        "question 9"
      ],
      "metadata": {
        "id": "6NJ--yaf3Wb2"
      }
    },
    {
      "cell_type": "code",
      "source": [
        "a=float(input(\"enter wall length in meter\"))\n",
        "b=float(input(\"enter wall height in meter\"))\n",
        "t=(a*b)\n",
        "w=2*(1.5*1.2)\n",
        "p=t-w\n",
        "print(d,\"total area painted:\",p)\n",
        "c=p*25\n",
        "print(\"total cost\",c)\n",
        "#"
      ],
      "metadata": {
        "colab": {
          "base_uri": "https://localhost:8080/"
        },
        "id": "CAD6H--T3TF9",
        "outputId": "75847f14-eaae-42f5-d62b-5319e739d0a1"
      },
      "execution_count": 22,
      "outputs": [
        {
          "output_type": "stream",
          "name": "stdout",
          "text": [
            "enter wall length in meter12\n",
            "enter wall height in meter8\n",
            "92.4 total area painted: 92.4\n",
            "total cost 2310.0\n"
          ]
        }
      ]
    },
    {
      "cell_type": "markdown",
      "source": [
        "question 10\n"
      ],
      "metadata": {
        "id": "GA7XDKha8fDZ"
      }
    },
    {
      "cell_type": "code",
      "source": [
        "a=float(input(\"enter number of units consumed\"))\n",
        "b=(a*5.2)+100\n",
        "print(b)\n",
        "#"
      ],
      "metadata": {
        "colab": {
          "base_uri": "https://localhost:8080/"
        },
        "id": "d0DPiQmO7iHx",
        "outputId": "fbecfbb4-4d50-463c-9d99-a1a4d41619c9"
      },
      "execution_count": 17,
      "outputs": [
        {
          "output_type": "stream",
          "name": "stdout",
          "text": [
            "enter number of units consumed250\n",
            "1400.0\n"
          ]
        }
      ]
    },
    {
      "cell_type": "code",
      "source": [],
      "metadata": {
        "id": "p-qJ04e64Yak"
      },
      "execution_count": 17,
      "outputs": []
    }
  ]
}